{
  "nbformat": 4,
  "nbformat_minor": 0,
  "metadata": {
    "colab": {
      "provenance": [],
      "authorship_tag": "ABX9TyNgpetLaGqT5e0NGit//QuK",
      "include_colab_link": true
    },
    "kernelspec": {
      "name": "python3",
      "display_name": "Python 3"
    },
    "language_info": {
      "name": "python"
    }
  },
  "cells": [
    {
      "cell_type": "markdown",
      "metadata": {
        "id": "view-in-github",
        "colab_type": "text"
      },
      "source": [
        "<a href=\"https://colab.research.google.com/github/Caucasa07/Paradigmas-de-Linguagens-de-Programacao/blob/main/aula14_09.ipynb\" target=\"_parent\"><img src=\"https://colab.research.google.com/assets/colab-badge.svg\" alt=\"Open In Colab\"/></a>"
      ]
    },
    {
      "cell_type": "code",
      "execution_count": null,
      "metadata": {
        "id": "tQAx00B0c3vJ"
      },
      "outputs": [],
      "source": [
        "#le um vetor de 8 posicoes e em seguida\n",
        "#le dois valores x e y qualquer correspondam\n",
        "#duas possicoes no vetor. o programa entao imprime a soma\n",
        "#dos valores encontrados nas respectivas posicoes x e y\n",
        "\n",
        "def main():\n",
        "    # Cria um vetor de 8 posições\n",
        "    vetor = [0] * 8\n",
        "\n",
        "    # Lê os valores do usuário para preencher o vetor\n",
        "    for i in range(8):\n",
        "        vetor[i] = int(input(\"Digite o valor da posição {}:\".format(i)))\n",
        "\n",
        "    # Lê os valores de X e Y\n",
        "    X = int(input(\"Digite o valor de X:\"))\n",
        "    Y = int(input(\"Digite o valor de Y:\"))\n",
        "\n",
        "    # Verifica se X e Y estão dentro das posições válidas do vetor\n",
        "    if X < 0 or X >= 8:\n",
        "        print(\"O valor de X não corresponde a uma posição disponível.\")\n",
        "        return  # Encerra o programa se X for inválido\n",
        "\n",
        "    if Y < 0 or Y >= 8:\n",
        "        print(\"O valor de Y não corresponde a uma posição disponível.\")\n",
        "        return  # Encerra o programa se Y for inválido\n",
        "\n",
        "    # Calcula a soma dos valores nas posições X e Y\n",
        "    result = vetor[X] + vetor[Y]\n",
        "\n",
        "    # Exibe a soma dos valores de X e Y\n",
        "    print(\"A soma dos valores de X e Y é:\", result)\n",
        "\n",
        "\n",
        "if __name__ == \"__main__\":\n",
        "    main()\n"
      ]
    },
    {
      "cell_type": "code",
      "source": [
        "#faça um programa no pythom que receba do usuario\n",
        "#um  vetor de 10 posisoes. Em seguida dereva ser\n",
        "#impresso o maior e o menor elemento\n",
        "def main():\n",
        "    # Inicializa o vetor com 10 posições\n",
        "    vetor = [0] * 10\n",
        "\n",
        "    # Lê os valores do usuário e preenche o vetor\n",
        "    for i in range(10):\n",
        "        vetor[i] = int(input(\"Escreva o valor do elemento {}:\".format(i)))\n",
        "\n",
        "    # Inicializa as variáveis para armazenar maior, menor, soma, média e quantidade de elementos >= 5\n",
        "    maior = vetor[0]\n",
        "    menor = vetor[0]\n",
        "    soma = 0\n",
        "    media = 0\n",
        "    mi5 = 0\n",
        "\n",
        "    # Percorre o vetor para calcular o maior, o menor, a soma, a média e contar elementos >= 5\n",
        "    for i in range(10):\n",
        "        if vetor[i] > maior:\n",
        "            maior = vetor[i]\n",
        "\n",
        "        if vetor[i] < menor:\n",
        "            menor = vetor[i]\n",
        "\n",
        "        soma += vetor[i]\n",
        "\n",
        "        if vetor[i] >= 5:\n",
        "            mi5 += 1\n",
        "\n",
        "    media = soma / 10  # Calcula a média dos elementos\n",
        "\n",
        "    # Exibe os resultados\n",
        "    print(\"O maior elemento é: {}\".format(maior))\n",
        "    print(\"O menor elemento é: {}\".format(menor))\n",
        "    print(\"A soma dos elementos é: {}\".format(soma))\n",
        "    print(\"A média dos elementos é: {}\".format(media))\n",
        "    print(\"A quantidade de elementos iguais ou maiores que 5 é: {}\".format(mi5))\n",
        "\n",
        "\n",
        "if __name__ == \"__main__\":\n",
        "    main()\n",
        "\n"
      ],
      "metadata": {
        "id": "5jgLh1Mqjk3r"
      },
      "execution_count": null,
      "outputs": []
    }
  ]
}