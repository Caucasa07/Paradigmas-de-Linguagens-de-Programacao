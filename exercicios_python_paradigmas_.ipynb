{
  "nbformat": 4,
  "nbformat_minor": 0,
  "metadata": {
    "colab": {
      "provenance": [],
      "authorship_tag": "ABX9TyOP9MgKUow0bxwYb+pM8J21",
      "include_colab_link": true
    },
    "kernelspec": {
      "name": "python3",
      "display_name": "Python 3"
    },
    "language_info": {
      "name": "python"
    }
  },
  "cells": [
    {
      "cell_type": "markdown",
      "metadata": {
        "id": "view-in-github",
        "colab_type": "text"
      },
      "source": [
        "<a href=\"https://colab.research.google.com/github/Caucasa07/Paradigmas-de-Linguagens-de-Programacao/blob/main/exercicios_python_paradigmas_.ipynb\" target=\"_parent\"><img src=\"https://colab.research.google.com/assets/colab-badge.svg\" alt=\"Open In Colab\"/></a>"
      ]
    },
    {
      "cell_type": "markdown",
      "source": [
        "escreva um programa para controlar uma maquina registradora. Você deve solicitar ao usuario que digite o codigo do produto e a quantidade comprada. Utilize a tabela de codigos a seguir para obter o preço de cada produto.\n",
        "\n",
        "Codigo Preço 1 0,5 2 1,00 3 4,00 5 7,00 9 8,00 Seu programa deve exibir o total das compras que o usuario digitar 0. Qualquer outro codigo deve gerar a mensagem de erro \"Código invalido\"\n"
      ],
      "metadata": {
        "id": "RuwWxVhRZbbU"
      }
    },
    {
      "cell_type": "code",
      "source": [
        "# Definindo a tabela de códigos e preços\n",
        "tabela_precos = {1: 0.5, 2: 1.0, 3: 4.0, 5: 7.0, 9: 8.0}\n",
        "\n",
        "# Inicializando o total\n",
        "total = 0.0\n",
        "\n",
        "# Loop para processar as compras\n",
        "while True:\n",
        "    codigo = int(input(\"Qual código do produto deseja comprar? (0 para encerrar): \"))\n",
        "\n",
        "    if codigo == 0:\n",
        "        break  # Encerra o loop quando o usuário digita 0\n",
        "\n",
        "    quant = int(input(\"Qual a quantidade desse produto você deseja adquirir? \"))\n",
        "\n",
        "    # Verifica se o código é válido e calcula o total\n",
        "    if codigo in tabela_precos:\n",
        "        total += tabela_precos[codigo] * quant\n",
        "    else:\n",
        "        print(\"Código inválido. Por favor, digite um código válido.\")\n",
        "\n",
        "# Exibe o total das compras\n",
        "print(\"Total das compras: R$\", total)\n"
      ],
      "metadata": {
        "id": "QmlhACiMb6tD"
      },
      "execution_count": null,
      "outputs": []
    },
    {
      "cell_type": "code",
      "source": [
        "public class Main {\n",
        "    public static void main(String[] args) {\n",
        "        double total = 0;\n",
        "        int codigo = 0;\n",
        "        do {\n",
        "            Scanner in = new Scanner(System.in);\n",
        "\n",
        "            System.out.println(\"codigo do produto:\");\n",
        "            codigo = in.nextInt();\n",
        "            System.out.println(\"quantidade  do produto:\");\n",
        "            int quant = in.nextInt();\n",
        "            switch (codigo){\n",
        "                case 1:\n",
        "                    total = total+(0.5*quant);\n",
        "                case 2:\n",
        "                    total = total+(quant);\n",
        "                case 3:\n",
        "                    total = total+(4*quant);\n",
        "                case 5:\n",
        "                    total = total+(7*quant);\n",
        "                case 9:\n",
        "                    total = total+(8*quant);\n",
        "            }\n",
        "        }while(codigo != 0);"
      ],
      "metadata": {
        "id": "8UU8jDn9smM1"
      },
      "execution_count": null,
      "outputs": []
    },
    {
      "cell_type": "markdown",
      "source": [
        "https://play.golang.com/"
      ],
      "metadata": {
        "id": "3CiN_alcuiky"
      }
    },
    {
      "cell_type": "code",
      "source": [
        "package main\n",
        "\n",
        "import (\n",
        "\t\"fmt\"\n",
        ")\n",
        "\n",
        "func main() {\n",
        "\tvar total float64 = 0\n",
        "\tvar codigo int\n",
        "\n",
        "\tfor {\n",
        "\t\tfmt.Println(\"Código do produto:\")\n",
        "\t\t_, err := fmt.Scanf(\"%d\", &codigo)\n",
        "\t\tif err != nil {\n",
        "\t\t\tfmt.Println(\"Erro ao ler o código. Certifique-se de inserir um número válido.\")\n",
        "\t\t\treturn\n",
        "\t\t}\n",
        "\n",
        "\t\tif codigo == 0 {\n",
        "\t\t\tbreak\n",
        "\t\t}\n",
        "\n",
        "\t\tfmt.Println(\"Quantidade do produto:\")\n",
        "\t\tvar quant int\n",
        "\t\t_, err = fmt.Scanf(\"%d\", &quant)\n",
        "\t\tif err != nil {\n",
        "\t\t\tfmt.Println(\"Erro ao ler a quantidade. Certifique-se de inserir um número válido.\")\n",
        "\t\t\treturn\n",
        "\t\t}\n",
        "\n",
        "\t\tswitch codigo {\n",
        "\t\tcase 1:\n",
        "\t\t\ttotal += 0.5 * float64(quant)\n",
        "\t\tcase 2:\n",
        "\t\t\ttotal += float64(quant)\n",
        "\t\tcase 3:\n",
        "\t\t\ttotal += 4.0 * float64(quant)\n",
        "\t\tcase 5:\n",
        "\t\t\ttotal += 7.0 * float64(quant)\n",
        "\t\tcase 9:\n",
        "\t\t\ttotal += 8.0 * float64(quant)\n",
        "\t\tdefault:\n",
        "\t\t\tfmt.Println(\"Código inválido. Por favor, digite um código válido.\")\n",
        "\t\t}\n",
        "\t}\n",
        "\n",
        "\tfmt.Printf(\"Total das compras: R$ %.2f\\n\", total)\n",
        "}\n"
      ],
      "metadata": {
        "id": "l12FGDavs1FW"
      },
      "execution_count": null,
      "outputs": []
    }
  ]
}