{
  "nbformat": 4,
  "nbformat_minor": 0,
  "metadata": {
    "colab": {
      "provenance": [],
      "authorship_tag": "ABX9TyOrJkJuiS7wh1e7EerAYVA9",
      "include_colab_link": true
    },
    "kernelspec": {
      "name": "python3",
      "display_name": "Python 3"
    },
    "language_info": {
      "name": "python"
    }
  },
  "cells": [
    {
      "cell_type": "markdown",
      "metadata": {
        "id": "view-in-github",
        "colab_type": "text"
      },
      "source": [
        "<a href=\"https://colab.research.google.com/github/Caucasa07/Paradigmas-de-Linguagens-de-Programacao/blob/main/aula_21_09.ipynb\" target=\"_parent\"><img src=\"https://colab.research.google.com/assets/colab-badge.svg\" alt=\"Open In Colab\"/></a>"
      ]
    },
    {
      "cell_type": "code",
      "execution_count": null,
      "metadata": {
        "id": "tsRdwODigDdJ"
      },
      "outputs": [],
      "source": [
        "# Crie um dicionário que é uma agenda e coloque nele os seguintes dados: chave (cpf),\n",
        "# nome, idade, telefone. O programa deve ler um número indeterminado de dados, criar a\n",
        "# agenda e imprimir todos os itens do dicionário no formato chave: nome, idade, fone.\n",
        "\n",
        "def main():\n",
        "    # Cria um dicionário vazio\n",
        "    agenda = {}\n",
        "\n",
        "    # Lê os dados da agenda\n",
        "    while True:\n",
        "        cpf = input(\"Digite o CPF: \")\n",
        "        nome = input(\"Digite o nome: \")\n",
        "        idade = input(\"Digite a idade: \")\n",
        "        telefone = input(\"Digite o telefone: \")\n",
        "\n",
        "        # Adiciona os dados ao dicionário\n",
        "        agenda[cpf] = {\n",
        "            \"nome\": nome,\n",
        "            \"idade\": idade,\n",
        "            \"telefone\": telefone,\n",
        "        }\n",
        "\n",
        "        # Pergunta se o usuário deseja continuar\n",
        "        continuar = input(\"Deseja continuar? (s/n): \")\n",
        "        if continuar != \"s\":\n",
        "            break\n",
        "\n",
        "    # Imprime os itens do dicionário\n",
        "    for cpf, contato in agenda.items():\n",
        "        print(cpf, contato[\"nome\"], contato[\"idade\"], contato[\"telefone\"])\n",
        "\n",
        "\n",
        "if __name__ == \"__main__\":\n",
        "    main()\n"
      ]
    },
    {
      "cell_type": "code",
      "source": [
        "# Construa um dicionário com nome, salariobruto, salario liquido,\n",
        "# para número indeterminado de pessoas, nele será calculado o\n",
        "# desconto de 8% do INSS e de 10% para IRPF. Preciso que o\n",
        "# programa seja escrito na Linguagem Python de forma Otimizada..\n",
        "\n",
        "\n",
        "def main():\n",
        "    # Cria um dicionário vazio\n",
        "    folha_de_pagamento = {}\n",
        "\n",
        "    # Lê os dados da folha de pagamento\n",
        "    while True:\n",
        "        # Lê o nome e o salário bruto\n",
        "        nome = input(\"Digite o nome: \")\n",
        "        salario_bruto = float(input(\"Digite o salário bruto: \"))\n",
        "\n",
        "        # Calcula o desconto do INSS\n",
        "        desconto_inss = salario_bruto * 0.08\n",
        "\n",
        "        # Calcula o desconto do IRPF\n",
        "        desconto_irpf = 0\n",
        "        if salario_bruto > 1903.98:\n",
        "            desconto_irpf = salario_bruto * 0.10\n",
        "\n",
        "        # Calcula o salário líquido\n",
        "        salario_liquido = salario_bruto - desconto_inss - desconto_irpf\n",
        "\n",
        "        # Adiciona os dados ao dicionário\n",
        "        folha_de_pagamento[nome] = {\n",
        "            \"salario_bruto\": salario_bruto,\n",
        "            \"desconto_inss\": desconto_inss,\n",
        "            \"desconto_irpf\": desconto_irpf,\n",
        "            \"salario_liquido\": salario_liquido,\n",
        "        }\n",
        "\n",
        "        # Pergunta se o usuário deseja continuar\n",
        "        continuar = input(\"Deseja continuar? (s/n): \")\n",
        "        if continuar.lower() != \"s\":\n",
        "            break\n",
        "\n",
        "    # Imprime os itens do dicionário\n",
        "    print(\"Nome do Funcionário\\tSalário Bruto\\tDesconto INSS\\tDesconto IRPF\\tSalário Líquido\")\n",
        "    for nome, dados in folha_de_pagamento.items():\n",
        "        print(\n",
        "            \"{}\\t\\tR${:.2f}\\tR${:.2f}\\tR${:.2f}\\tR${:.2f}\".format(\n",
        "                nome,\n",
        "                dados[\"salario_bruto\"],\n",
        "                dados[\"desconto_inss\"],\n",
        "                dados[\"desconto_irpf\"],\n",
        "                dados[\"salario_liquido\"],\n",
        "            )\n",
        "        )\n",
        "\n",
        "\n",
        "if __name__ == \"__main__\":\n",
        "    main()"
      ],
      "metadata": {
        "id": "BbnIn9386QRY"
      },
      "execution_count": null,
      "outputs": []
    }
  ]
}