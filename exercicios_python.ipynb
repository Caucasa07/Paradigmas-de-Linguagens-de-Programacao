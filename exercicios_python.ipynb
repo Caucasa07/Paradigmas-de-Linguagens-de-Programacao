{
  "nbformat": 4,
  "nbformat_minor": 0,
  "metadata": {
    "colab": {
      "provenance": [],
      "authorship_tag": "ABX9TyPxWeqrElIGxFXsiUf8qeBO",
      "include_colab_link": true
    },
    "kernelspec": {
      "name": "python3",
      "display_name": "Python 3"
    },
    "language_info": {
      "name": "python"
    }
  },
  "cells": [
    {
      "cell_type": "markdown",
      "metadata": {
        "id": "view-in-github",
        "colab_type": "text"
      },
      "source": [
        "<a href=\"https://colab.research.google.com/github/Caucasa07/Paradigmas-de-Linguagens-de-Programacao/blob/main/exercicios_python.ipynb\" target=\"_parent\"><img src=\"https://colab.research.google.com/assets/colab-badge.svg\" alt=\"Open In Colab\"/></a>"
      ]
    },
    {
      "cell_type": "code",
      "execution_count": null,
      "metadata": {
        "id": "iyRuznCpB1k5"
      },
      "outputs": [],
      "source": [
        "# Faça um programa que solicite o preço de uma mercadoria e o percentual de desconto. Exiba o valor do desconto e o preço a pagar\n",
        "# Solicita ao usuário que insira o preço da mercadoria e o percentual de desconto\n",
        "\n",
        "# Declara e atribui valores as variaveis\n",
        "preço = float(input(\"Digite o preço da mercadoria:\"))\n",
        "desconto = float(input(\"Digite o percentual de desconto:\"))\n",
        "\n",
        "# Calcula o valor do desconto com base no preço e percentual de desconto\n",
        "valorDesconto = preço * desconto / 100\n",
        "\n",
        "# Calcula o valor a ser pago após o desconto\n",
        "pagar = preço - valorDesconto\n",
        "\n",
        "# Exibe as informações formatadas na tela\n",
        "print(\"Um desconto de %f %% em uma mercadoria de R$ %f\" % (desconto, preço))\n",
        "print(\"vale R$ %f.\" % valorDesconto)\n",
        "print(\"O valor a pagar é de R$ %f\" % pagar)\n"
      ]
    },
    {
      "cell_type": "code",
      "source": [
        "#Escreva um programa para calcular a redução do tempo de vida de um fumante.\n",
        "#Pergunte a quantidade de cigarros fumados por dia e quantos anos ele já fumou.\n",
        "#Considere que um fumante perde 10 minutos de vida a cada cigarro, e calcule quantos dias de vida um fumante perderá. Exiba o total em dias.\n",
        "\n",
        "# Solicita ao usuário que insira a quantidade de cigarros por dia e a quantidade de anos fumando\n",
        "dia = int(input(\"Quantidade de cigarros por dia:\"))\n",
        "anos = float(input(\"Quantidade de anos fumando:\"))\n",
        "\n",
        "# Calcula a redução estimada do tempo de vida em minutos\n",
        "# com base na quantidade de cigarros por dia e anos fumando\n",
        "reduMin = anos * 365 * dia * 10  # Assume que cada cigarro reduz 10 minutos de vida\n",
        "\n",
        "# Calcula a redução em dias (um dia tem 24 horas * 60 minutos)\n",
        "reduDias = reduMin / (24 * 60)\n",
        "\n",
        "# Exibe a redução estimada do tempo de vida em dias\n",
        "print(\"Redução do tempo de vida: %f dias.\" % reduDias)\n"
      ],
      "metadata": {
        "id": "CABfc1rFCP3f"
      },
      "execution_count": null,
      "outputs": []
    },
    {
      "cell_type": "code",
      "source": [
        "#Escreva um programa que pergunte o salário do funcionário e calcule o valor do aumento.\n",
        "#Para salários superiores a R$ 1.250,00, calcule um aumento de 10%. Para os inferiores ou iguais, de 15%.\n",
        "\n",
        "# Solicita ao usuário que insira o salário\n",
        "salario = float(input(\"Digite seu salário: \"))\n",
        "\n",
        "# Define o percentual de aumento inicial como 15%\n",
        "aumento = 0.15\n",
        "\n",
        "# Verifica se o salário é maior que 1250\n",
        "# Se for, altera o percentual de aumento para 10%\n",
        "if salario > 1250:\n",
        "    aumento = 0.10\n",
        "\n",
        "# Calcula o salário final após o aumento\n",
        "salfinal = salario * aumento\n",
        "\n",
        "# Exibe o aumento salarial e o percentual de aumento formatados\n",
        "print(f\"Seu aumento será de: R$ {salfinal:f}\")\n",
        "print(f\"O percentual de aumento é: {aumento * 100:.2f}%\")"
      ],
      "metadata": {
        "id": "Yap7-VoeDAUh"
      },
      "execution_count": null,
      "outputs": []
    },
    {
      "cell_type": "code",
      "source": [
        " #Desenvolva um programa em Python que calcule o custo de consumo de energia elétrica.\n",
        " #Baseando-se no tipo de instalação (Residencial, industral e comercial) e no consumo em quilowatt-hora (kWh).\n",
        "\n",
        "# Solicita ao usuário que insira o consumo em kWh e o tipo de instalação\n",
        "consumo = int(input(\"Consumo em kWh: \"))\n",
        "tipo = input(\"Tipo da instalação (R, C ou I): \")\n",
        "\n",
        "# Inicializa a variável preço\n",
        "preço = 0\n",
        "\n",
        "# Verifica o tipo de instalação e calcula o preço com base no consumo\n",
        "if tipo == \"R\":\n",
        "    if consumo <= 500:\n",
        "        preço = 0.40\n",
        "    else:\n",
        "        preço = 0.65\n",
        "elif tipo == \"I\":\n",
        "    if consumo <= 5000:\n",
        "        preço = 0.55\n",
        "    else:\n",
        "        preço = 0.60\n",
        "elif tipo == \"C\":\n",
        "    if consumo <= 1000:\n",
        "        preço = 0.55\n",
        "    else:\n",
        "        preço = 0.60\n",
        "else:\n",
        "    # Caso o tipo de instalação seja desconhecido, define preço como 0 e exibe uma mensagem de erro\n",
        "    preço = 0\n",
        "    print(\"Erro! Tipo de instalação desconhecido!\")\n",
        "\n",
        "# Calcula o custo com base no consumo e no preço\n",
        "custo = consumo * preço\n",
        "\n",
        "# Exibe o valor a pagar formatado\n",
        "print(f\"Valor a pagar: R$ {custo:f}\")\n"
      ],
      "metadata": {
        "id": "vbSfCXgLEiem"
      },
      "execution_count": null,
      "outputs": []
    },
    {
      "cell_type": "code",
      "source": [
        "#Escreva um programa que compare duas listas. Utilizando operações com conjuntos, imprima:\n",
        "# os valores comuns às duas listas\n",
        "# os valores que só existem na primeira\n",
        "# os valores que existem apenas na segunda\n",
        "# uma lista com os elementos não repetidos das duas listas.\n",
        "# a primeira lista sem os elementos repetidos na segunda\n",
        "\n",
        "\n",
        "L1 = [1, 2, 6, 8]\n",
        "L2 = [3, 6, 8, 9]\n",
        "\n",
        "print(f\"Lista 1: {L1}\")\n",
        "print(f\"Lista 2: {L2}\")\n",
        "\n",
        "conjunto_1 = set(L1)\n",
        "conjunto_2 = set(L2)\n",
        "\n",
        "# Conjuntos suportam o operador & para realizar a interseção, ou seja,\n",
        "# A & B resulta no conjunto de elementos presentes em A e B\n",
        "print(\"Valores comuns às duas listas:\", conjunto_1 & conjunto_2)\n",
        "print(\"Valores que só existem na primeira:\", conjunto_1 - conjunto_2)\n",
        "print(\"Valores que só existem na segunda:\", conjunto_2 - conjunto_1)\n",
        "\n",
        "# Conjuntos suportam o operador ^ que realiza a subtração simétrica.\n",
        "# A ^ B resulta nos elementos de A não presentes em B unidos\n",
        "# com os elementos de B não presentes em A\n",
        "# A ^ B = A - B | B - A\n",
        "print(\"Elementos não repetidos nas duas listas:\", conjunto_1 ^ conjunto_2)\n",
        "\n",
        "# Repetido:\n",
        "print(\"Primeira lista, sem os elementos repetidos na segunda:\",\n",
        "      conjunto_1 - conjunto_2)"
      ],
      "metadata": {
        "id": "LylHRZGfFcNT"
      },
      "execution_count": null,
      "outputs": []
    },
    {
      "cell_type": "code",
      "source": [
        "#Altere o programa anterior de forma a perguntar também o valor depositado mensalmente.\n",
        "#Esse valor será depositado no início de cada mês, e você deve considerá-lo para o cálculo de juros do mês seguinte.\n",
        "\n",
        "# Solicita ao usuário que insira o depósito inicial, a taxa de juros e o depósito mensal\n",
        "depósito = float(input(\"Depósito inicial: \"))\n",
        "taxa = float(input(\"Taxa de juros: \"))\n",
        "investimento = float(input(\"Depósito mensal: \"))\n",
        "\n",
        "# Inicializa variáveis para o mês e o saldo\n",
        "mes = 1\n",
        "saldo = depósito\n",
        "\n",
        "# Loop para calcular o saldo para cada mês até 24 meses\n",
        "while mes <= 24:\n",
        "    saldo = saldo + (saldo * (taxa / 100)) + investimento  # Calcula o novo saldo para o mês\n",
        "    print(f\"Saldo do mês {mes} é de R${saldo:f}.\")  # Exibe o saldo para o mês atual\n",
        "    mes = mes + 1  # Avança para o próximo mês\n",
        "\n",
        "# Calcula o ganho obtido com os juros ao longo dos 24 meses\n",
        "ganho_com_juros = saldo - depósito\n",
        "\n",
        "# Exibe o ganho obtido com os juros formatado\n",
        "print(f\"O ganho obtido com os juros foi de R${ganho_com_juros:f}.\")"
      ],
      "metadata": {
        "id": "Q4YwJiU5FzGJ"
      },
      "execution_count": null,
      "outputs": []
    },
    {
      "cell_type": "code",
      "source": [
        "#Escreva um programa para controlar uma pequena máquina registradora.\n",
        "#Você deve solicitar ao usuário que digite o código do produto e a quantidade comprada.\n",
        "#Utilize a tabela de códigos a seguir para obter o preço de cada produto:\n",
        "\n",
        "\"\"\"Código Preço\n",
        "1      0,50\n",
        "2      1,00\n",
        "3      4,00\n",
        "5      7,00\n",
        "9      8,00\n",
        "Seu programa deve exibir o total das compras depois que o usuário digitar 0.\n",
        "Qualquer outro código deve gerar a mensagem de erro “Código inválido”\n",
        "\"\"\"\n",
        "# Inicializa a variável para armazenar o total a pagar\n",
        "total = 0\n",
        "\n",
        "# Loop infinito, será interrompido quando o usuário inserir o código 0\n",
        "while True:\n",
        "    # Solicita ao usuário que insira o código da mercadoria (0 para sair)\n",
        "    codigo = int(input(\"Código da mercadoria (0 para sair): \"))\n",
        "    preco = 0  # Inicializa o preço da mercadoria\n",
        "\n",
        "    # Verifica o código da mercadoria e atribui o preço correspondente\n",
        "    if codigo == 0:\n",
        "        break  # Sai do loop se o código for 0\n",
        "    elif codigo == 1:\n",
        "        preco = 0.50\n",
        "    elif codigo == 2:\n",
        "        preco = 1.00\n",
        "    elif codigo == 3:\n",
        "        preco = 4.00\n",
        "    elif codigo == 5:\n",
        "        preco = 7.00\n",
        "    elif codigo == 9:\n",
        "        preco = 8.00\n",
        "    else:\n",
        "        print(\"Código inválido!\")\n",
        "\n",
        "    # Se o código for válido e diferente de 0, solicita a quantidade e calcula o total parcial\n",
        "    if preco != 0:\n",
        "        quant = int(input(\"Quantidade: \"))\n",
        "        total = total + (preco * quant)  # Calcula o total parcial para essa mercadoria\n",
        "\n",
        "# Exibe o total a pagar formatado\n",
        "print(f\"Total a pagar: R$ {total:f}\")\n"
      ],
      "metadata": {
        "id": "QUCASL1RGORE"
      },
      "execution_count": null,
      "outputs": []
    }
  ]
}